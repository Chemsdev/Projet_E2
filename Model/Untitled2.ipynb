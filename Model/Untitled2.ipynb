{
 "cells": [
  {
   "cell_type": "code",
   "execution_count": 1,
   "id": "23514d9c",
   "metadata": {},
   "outputs": [],
   "source": [
    "# Librairies principales.\n",
    "import pandas as pd\n",
    "import numpy as np\n",
    "import seaborn as sns \n",
    "import matplotlib.pyplot as plt\n",
    "\n",
    "# Autres.\n",
    "from sklearn.linear_model import LinearRegression\n",
    "from sklearn.model_selection import train_test_split\n",
    "from sklearn.model_selection import cross_val_score\n",
    "from sklearn import svm\n",
    "from sklearn.model_selection import cross_validate\n",
    "from sklearn.linear_model import LinearRegression\n",
    "from sklearn.impute import KNNImputer\n",
    "from sklearn.model_selection import KFold\n",
    "from sklearn.pipeline import make_pipeline\n",
    "from sklearn.compose import make_column_transformer\n",
    "from sklearn.preprocessing import OneHotEncoder\n",
    "from sklearn.preprocessing import MinMaxScaler\n",
    "from sklearn.preprocessing import StandardScaler\n",
    "from sklearn.preprocessing import RobustScaler\n",
    "from sklearn.pipeline import Pipeline\n",
    "from sklearn.model_selection import GridSearchCV"
   ]
  },
  {
   "cell_type": "code",
   "execution_count": 2,
   "id": "7d2e9dd8",
   "metadata": {},
   "outputs": [],
   "source": [
    "silicon_valley = pd.read_csv(\"silicon_valley.csv\")\n",
    "silicon_valley = silicon_valley.rename(columns=\n",
    "{\n",
    "      'Unnamed: 0'         : 'ID logement', \n",
    "      'housing_median_age' : 'age moyen logement', \n",
    "      'total_rooms'        : 'total pieces', \n",
    "      'total_bedrooms'     : 'total chambres', \n",
    "      'population'         : 'nb personne logement', \n",
    "      'households'         : 'nb famille logement', \n",
    "      'median_income'      : 'salaire median logement',\n",
    "      'median_house_value' : 'valeur moyenne logement',\n",
    "      'ocean_proximity'    : 'proximation Ocean'\n",
    "})"
   ]
  },
  {
   "cell_type": "code",
   "execution_count": 3,
   "id": "d9d88290",
   "metadata": {},
   "outputs": [],
   "source": [
    "# Séparation des features & de la Target.\n",
    "X = silicon_valley.drop('salaire median logement', axis=1)  # Utilisez 1 au lieu de 'columns'.\n",
    "Y = silicon_valley[\"salaire median logement\"]"
   ]
  },
  {
   "cell_type": "code",
   "execution_count": 4,
   "id": "38b8f4a4",
   "metadata": {},
   "outputs": [],
   "source": [
    "def replace_missing_value(column):\n",
    "    imputer = KNNImputer(n_neighbors=1)\n",
    "    new_column = imputer.fit_transform(column)\n",
    "    return new_column"
   ]
  },
  {
   "cell_type": "code",
   "execution_count": 5,
   "id": "84437c0a",
   "metadata": {},
   "outputs": [],
   "source": [
    "# imputation des données manquantes et supression de la colonne ID logement.\n",
    "total_chambres = replace_missing_value(silicon_valley[[\"total chambres\"]])\n",
    "silicon_valley[\"total chambres\"] = total_chambres\n",
    "silicon_valley.drop(['ID logement'], axis=1, inplace=True)"
   ]
  },
  {
   "cell_type": "code",
   "execution_count": 6,
   "id": "b2549dbd",
   "metadata": {},
   "outputs": [],
   "source": [
    "# Encodage des variables catégorielles.\n",
    "silicon_valley = pd.get_dummies(silicon_valley, columns=['proximation Ocean'], prefix=[\"\"])"
   ]
  },
  {
   "cell_type": "markdown",
   "id": "634d7410",
   "metadata": {},
   "source": [
    "#### BASELINE"
   ]
  },
  {
   "cell_type": "code",
   "execution_count": 7,
   "id": "9fbafe08",
   "metadata": {},
   "outputs": [],
   "source": [
    "X = silicon_valley[[\"longitude\",\"latitude\",\"age moyen logement\",\n",
    "          \"total pieces\",\"total chambres\",\"nb personne logement\",\n",
    "          \"nb famille logement\",\"salaire median logement\",\n",
    "          \"_<1H OCEAN\", \"_INLAND\",\"_ISLAND\",\"_NEAR BAY\",\"_NEAR OCEAN\"\n",
    "         ]]\n",
    "X = np.array(X)"
   ]
  },
  {
   "cell_type": "code",
   "execution_count": 8,
   "id": "3249b72f",
   "metadata": {},
   "outputs": [],
   "source": [
    "Y = silicon_valley[[\"valeur moyenne logement\"]]\n",
    "Y = np.array(Y)"
   ]
  },
  {
   "cell_type": "code",
   "execution_count": 17,
   "id": "44ce7828",
   "metadata": {},
   "outputs": [
    {
     "name": "stdout",
     "output_type": "stream",
     "text": [
      "Notre baseline est de : 0.6501023242761372\n"
     ]
    }
   ],
   "source": [
    "x_train, x_test, y_train, y_test = train_test_split(X,Y, test_size=0.20, random_state=42)\n",
    "model = LinearRegression()\n",
    "model.fit(x_train, y_train)\n",
    "print(f\"Notre baseline est de : {model.score(x_test, y_test)}\")"
   ]
  },
  {
   "cell_type": "code",
   "execution_count": 14,
   "id": "158d3d75",
   "metadata": {},
   "outputs": [],
   "source": [
    "score = cross_val_score(LinearRegression(), x_test, y_test, cv=4).mean()"
   ]
  },
  {
   "cell_type": "code",
   "execution_count": 11,
   "id": "6adae76e",
   "metadata": {},
   "outputs": [
    {
     "name": "stdout",
     "output_type": "stream",
     "text": [
      "0.4947166508785439\n"
     ]
    }
   ],
   "source": [
    "print(score)"
   ]
  },
  {
   "cell_type": "code",
   "execution_count": 20,
   "id": "71917f34",
   "metadata": {},
   "outputs": [
    {
     "data": {
      "text/plain": [
       "(16512, 14)"
      ]
     },
     "execution_count": 20,
     "metadata": {},
     "output_type": "execute_result"
    }
   ],
   "source": [
    "silicon_valley.shape"
   ]
  }
 ],
 "metadata": {
  "kernelspec": {
   "display_name": "Python 3 (ipykernel)",
   "language": "python",
   "name": "python3"
  },
  "language_info": {
   "codemirror_mode": {
    "name": "ipython",
    "version": 3
   },
   "file_extension": ".py",
   "mimetype": "text/x-python",
   "name": "python",
   "nbconvert_exporter": "python",
   "pygments_lexer": "ipython3",
   "version": "3.8.12"
  },
  "toc": {
   "base_numbering": 1,
   "nav_menu": {},
   "number_sections": true,
   "sideBar": true,
   "skip_h1_title": false,
   "title_cell": "Table of Contents",
   "title_sidebar": "Contents",
   "toc_cell": false,
   "toc_position": {},
   "toc_section_display": true,
   "toc_window_display": false
  }
 },
 "nbformat": 4,
 "nbformat_minor": 5
}
