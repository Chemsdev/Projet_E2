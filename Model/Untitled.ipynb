{
 "cells": [
  {
   "cell_type": "code",
   "execution_count": 84,
   "id": "5c64ecc6",
   "metadata": {},
   "outputs": [],
   "source": [
    "# Librairies principaux.\n",
    "import pandas as pd\n",
    "import numpy as np\n",
    "import seaborn as sns \n",
    "import matplotlib.pyplot as plt\n",
    "\n",
    "# Autres.\n",
    "from sklearn.linear_model import LinearRegression\n",
    "from sklearn.model_selection import train_test_split\n",
    "from sklearn.model_selection import cross_val_score\n",
    "from sklearn import svm\n",
    "from sklearn.model_selection import cross_validate\n",
    "from sklearn.linear_model import LinearRegression\n",
    "from sklearn.model_selection import train_test_split\n",
    "from sklearn.impute import KNNImputer\n",
    "\n",
    "# Scalling.\n",
    "from sklearn.preprocessing import MinMaxScaler\n",
    "from sklearn.preprocessing import StandardScaler\n",
    "from sklearn.preprocessing import RobustScaler"
   ]
  },
  {
   "cell_type": "code",
   "execution_count": 38,
   "id": "a780f9ba",
   "metadata": {},
   "outputs": [],
   "source": [
    "silicon_valley = pd.read_csv(\"silicon_valley.csv\")\n",
    "silicon_valley = silicon_valley.rename(columns=\n",
    "{\n",
    "      'Unnamed: 0'         : 'ID logement', \n",
    "      'housing_median_age' : 'age moyen logement', \n",
    "      'total_rooms'        : 'total pieces', \n",
    "      'total_bedrooms'     : 'total chambres', \n",
    "      'population'         : 'nb personne logement', \n",
    "      'households'         : 'nb famille logement', \n",
    "      'median_income'      : 'salaire median logement',\n",
    "      'median_house_value' : 'valeur moyenne logement',\n",
    "      'ocean_proximity'    : 'proximation Ocean'\n",
    "})"
   ]
  },
  {
   "cell_type": "code",
   "execution_count": 39,
   "id": "118f6b1b",
   "metadata": {
    "scrolled": true
   },
   "outputs": [
    {
     "data": {
      "text/html": [
       "<div>\n",
       "<style scoped>\n",
       "    .dataframe tbody tr th:only-of-type {\n",
       "        vertical-align: middle;\n",
       "    }\n",
       "\n",
       "    .dataframe tbody tr th {\n",
       "        vertical-align: top;\n",
       "    }\n",
       "\n",
       "    .dataframe thead th {\n",
       "        text-align: right;\n",
       "    }\n",
       "</style>\n",
       "<table border=\"1\" class=\"dataframe\">\n",
       "  <thead>\n",
       "    <tr style=\"text-align: right;\">\n",
       "      <th></th>\n",
       "      <th>ID logement</th>\n",
       "      <th>longitude</th>\n",
       "      <th>latitude</th>\n",
       "      <th>age moyen logement</th>\n",
       "      <th>total pieces</th>\n",
       "      <th>total chambres</th>\n",
       "      <th>nb personne logement</th>\n",
       "      <th>nb famille logement</th>\n",
       "      <th>salaire median logement</th>\n",
       "      <th>valeur moyenne logement</th>\n",
       "      <th>proximation Ocean</th>\n",
       "    </tr>\n",
       "  </thead>\n",
       "  <tbody>\n",
       "    <tr>\n",
       "      <th>0</th>\n",
       "      <td>2072</td>\n",
       "      <td>-119.84</td>\n",
       "      <td>36.77</td>\n",
       "      <td>6.0</td>\n",
       "      <td>1853.0</td>\n",
       "      <td>473.0</td>\n",
       "      <td>1397.0</td>\n",
       "      <td>417.0</td>\n",
       "      <td>1.4817</td>\n",
       "      <td>72000.0</td>\n",
       "      <td>INLAND</td>\n",
       "    </tr>\n",
       "    <tr>\n",
       "      <th>1</th>\n",
       "      <td>10600</td>\n",
       "      <td>-117.80</td>\n",
       "      <td>33.68</td>\n",
       "      <td>8.0</td>\n",
       "      <td>2032.0</td>\n",
       "      <td>349.0</td>\n",
       "      <td>862.0</td>\n",
       "      <td>340.0</td>\n",
       "      <td>6.9133</td>\n",
       "      <td>274100.0</td>\n",
       "      <td>&lt;1H OCEAN</td>\n",
       "    </tr>\n",
       "    <tr>\n",
       "      <th>2</th>\n",
       "      <td>2494</td>\n",
       "      <td>-120.19</td>\n",
       "      <td>36.60</td>\n",
       "      <td>25.0</td>\n",
       "      <td>875.0</td>\n",
       "      <td>214.0</td>\n",
       "      <td>931.0</td>\n",
       "      <td>214.0</td>\n",
       "      <td>1.5536</td>\n",
       "      <td>58300.0</td>\n",
       "      <td>INLAND</td>\n",
       "    </tr>\n",
       "    <tr>\n",
       "      <th>3</th>\n",
       "      <td>4284</td>\n",
       "      <td>-118.32</td>\n",
       "      <td>34.10</td>\n",
       "      <td>31.0</td>\n",
       "      <td>622.0</td>\n",
       "      <td>229.0</td>\n",
       "      <td>597.0</td>\n",
       "      <td>227.0</td>\n",
       "      <td>1.5284</td>\n",
       "      <td>200000.0</td>\n",
       "      <td>&lt;1H OCEAN</td>\n",
       "    </tr>\n",
       "    <tr>\n",
       "      <th>4</th>\n",
       "      <td>16541</td>\n",
       "      <td>-121.23</td>\n",
       "      <td>37.79</td>\n",
       "      <td>21.0</td>\n",
       "      <td>1922.0</td>\n",
       "      <td>373.0</td>\n",
       "      <td>1130.0</td>\n",
       "      <td>372.0</td>\n",
       "      <td>4.0815</td>\n",
       "      <td>117900.0</td>\n",
       "      <td>INLAND</td>\n",
       "    </tr>\n",
       "  </tbody>\n",
       "</table>\n",
       "</div>"
      ],
      "text/plain": [
       "   ID logement  longitude  latitude  age moyen logement  total pieces  \\\n",
       "0         2072    -119.84     36.77                 6.0        1853.0   \n",
       "1        10600    -117.80     33.68                 8.0        2032.0   \n",
       "2         2494    -120.19     36.60                25.0         875.0   \n",
       "3         4284    -118.32     34.10                31.0         622.0   \n",
       "4        16541    -121.23     37.79                21.0        1922.0   \n",
       "\n",
       "   total chambres  nb personne logement  nb famille logement  \\\n",
       "0           473.0                1397.0                417.0   \n",
       "1           349.0                 862.0                340.0   \n",
       "2           214.0                 931.0                214.0   \n",
       "3           229.0                 597.0                227.0   \n",
       "4           373.0                1130.0                372.0   \n",
       "\n",
       "   salaire median logement  valeur moyenne logement proximation Ocean  \n",
       "0                   1.4817                  72000.0            INLAND  \n",
       "1                   6.9133                 274100.0         <1H OCEAN  \n",
       "2                   1.5536                  58300.0            INLAND  \n",
       "3                   1.5284                 200000.0         <1H OCEAN  \n",
       "4                   4.0815                 117900.0            INLAND  "
      ]
     },
     "execution_count": 39,
     "metadata": {},
     "output_type": "execute_result"
    }
   ],
   "source": [
    "silicon_valley.head()"
   ]
  },
  {
   "cell_type": "code",
   "execution_count": 40,
   "id": "98c73811",
   "metadata": {},
   "outputs": [],
   "source": [
    "# Séparation des features & la Target\n",
    "X = silicon_valley.drop('salaire median logement', axis='columns')\n",
    "Y = silicon_valley[\"salaire median logement\"]"
   ]
  },
  {
   "cell_type": "code",
   "execution_count": 80,
   "id": "c49dae01",
   "metadata": {},
   "outputs": [],
   "source": [
    "# Classement des colonnes dans des listes.\n",
    "target         =  [\"salaire median logement\"]\n",
    "drop           =  [\"ID logement\"]\n",
    "num_manquantes =  [\"total chambres\"]\n",
    "cat            =  [\"proximation Ocean\"]\n",
    "passthrough    =  []\n",
    "text           =  []\n",
    "cat_manquantes =  []\n",
    "\n",
    "scaling = [\n",
    "    \"total pieces\", \n",
    "    \"nb personne logement\", \n",
    "    \"longitude\", \n",
    "    \"latitude\", \n",
    "    \"age moyen logement\",\n",
    "    \"nb famille logement\", \n",
    "    'valeur moyenne logement'\n",
    "]"
   ]
  },
  {
   "cell_type": "code",
   "execution_count": 81,
   "id": "aba0e94d",
   "metadata": {},
   "outputs": [],
   "source": [
    "# Liste contenant toutes les colonnes\n",
    "all_cols = [\n",
    "    target,\n",
    "    drop,\n",
    "    passthrough,\n",
    "    text,\n",
    "    num_manquantes,\n",
    "    cat_manquantes,\n",
    "    cat,\n",
    "    scaling\n",
    "]"
   ]
  },
  {
   "cell_type": "code",
   "execution_count": 82,
   "id": "5629c3c5",
   "metadata": {},
   "outputs": [],
   "source": [
    "# Vérification (fautes ortographes, oublie de colonnes etc...)\n",
    "def check_work(liste_all_listes, data):\n",
    "    set_nos_cols = set()\n",
    "    for liste in liste_all_listes:\n",
    "        for col in liste:\n",
    "            if col in set_nos_cols:\n",
    "                print(f\"Warning : La colonne '{col}' est déja présente !\")\n",
    "            set_nos_cols.add(col)         \n",
    "    set_colonnes_originales = set(data.columns)\n",
    "    mal_écrites = set_nos_cols - set_colonnes_originales\n",
    "    col_manquantes = set_colonnes_originales - set_nos_cols\n",
    "    print(f\"Des colonnes sont manquantes :  {col_manquantes}\")\n",
    "    print(f\"Des colonnes sont mal écrites : {mal_écrites}\")"
   ]
  },
  {
   "cell_type": "code",
   "execution_count": 83,
   "id": "afc03ded",
   "metadata": {},
   "outputs": [
    {
     "name": "stdout",
     "output_type": "stream",
     "text": [
      "Des colonnes sont manquantes :  set()\n",
      "Des colonnes sont mal écrites : set()\n"
     ]
    }
   ],
   "source": [
    "# exécution de la fonction de vérification.\n",
    "check_work(liste_all_listes=all_cols, data=silicon_valley)"
   ]
  },
  {
   "cell_type": "markdown",
   "id": "96451fcc",
   "metadata": {},
   "source": [
    "## PREPROCESSING"
   ]
  },
  {
   "cell_type": "code",
   "execution_count": 90,
   "id": "13523394",
   "metadata": {},
   "outputs": [],
   "source": [
    "# Importer les utilitaires sklearn pour faire ça proprement\n",
    "from sklearn.pipeline import make_pipeline\n",
    "from sklearn.compose import make_column_transformer\n",
    "from sklearn.preprocessing import OneHotEncoder"
   ]
  },
  {
   "cell_type": "code",
   "execution_count": 93,
   "id": "071c841e",
   "metadata": {},
   "outputs": [],
   "source": [
    "# Preprocessing Complet.\n",
    "preprocessing = make_column_transformer(\n",
    "    (OneHotEncoder(handle_unknown=\"ignore\"),  cat),\n",
    "    (KNNImputer(n_neighbors=1),               num_manquantes),\n",
    "    (\"passthrough\",                           passthrough),\n",
    "    (\"drop\",                                  drop)      \n",
    ")"
   ]
  },
  {
   "cell_type": "markdown",
   "id": "b2127483",
   "metadata": {},
   "source": [
    "## PipeLine Complète"
   ]
  },
  {
   "cell_type": "code",
   "execution_count": 94,
   "id": "39fabd09",
   "metadata": {},
   "outputs": [],
   "source": [
    "# Créer une Pipeline\n",
    "from sklearn.pipeline import Pipeline"
   ]
  },
  {
   "cell_type": "code",
   "execution_count": 95,
   "id": "3b61cbf7",
   "metadata": {},
   "outputs": [],
   "source": [
    "# Les Algorithmes de Machine Learning\n",
    "from sklearn.linear_model import LinearRegression"
   ]
  },
  {
   "cell_type": "code",
   "execution_count": 96,
   "id": "869f5d5d",
   "metadata": {},
   "outputs": [],
   "source": [
    "# Random Forest Modele\n",
    "linear_regression_pipeline = Pipeline([\n",
    "    ('Preprocessing',     preprocessing),\n",
    "    ('LinearRegression',  LinearRegression()),\n",
    "])"
   ]
  },
  {
   "cell_type": "code",
   "execution_count": 99,
   "id": "d9e1d043",
   "metadata": {},
   "outputs": [],
   "source": [
    "# linear_regression_pipeline.fit(X,Y)\n",
    "# predictions_forest = linear_regression_pipeline.predict(X)"
   ]
  },
  {
   "cell_type": "markdown",
   "id": "bc38773e",
   "metadata": {},
   "source": [
    "### GRID SEARCH : Recherche de la Meilleure Pipeline"
   ]
  },
  {
   "cell_type": "code",
   "execution_count": 97,
   "id": "d217c4cc",
   "metadata": {},
   "outputs": [],
   "source": [
    "from sklearn.model_selection import GridSearchCV"
   ]
  },
  {
   "cell_type": "markdown",
   "id": "89ac2858",
   "metadata": {},
   "source": [
    "#### CrossValidation"
   ]
  },
  {
   "cell_type": "code",
   "execution_count": 27,
   "id": "3479688e",
   "metadata": {},
   "outputs": [],
   "source": [
    "cross_validation_folds = KFold(n_splits=5, shuffle=True, random_state=777)"
   ]
  },
  {
   "cell_type": "code",
   "execution_count": null,
   "id": "31db8573",
   "metadata": {},
   "outputs": [],
   "source": [
    "linear_regression = {}\n",
    "\n",
    "# pipeline knn\n",
    "linear_regression[\"pipeline\"] = Pipeline([\n",
    "                            ('Preprocessing',    preprocessing),\n",
    "                            ('LinearRegression', LinearRegression()),\n",
    "])\n",
    "\n",
    "# Grille pour la pipeline KNN\n",
    "linear_regression[\"hyperparamètres\"] = {}\n",
    "linear_regression[\"hyperparamètres\"][\"choisir_param_linear_regression\"] = [1, 3, 5, 7, 9, 13, 17, 21, 27, 29]\n",
    "linear_regression[\"hyperparamètres\"][\"choisir_param_linear_regression\"] = [\"uniform\", \"distance\"]\n",
    "\n",
    "# gridsearch pour la pipeline KNN\n",
    "linear_regression[\"gridsearch\"] = GridSearchCV(\n",
    "                                     estimator  = linear_regression[\"pipeline\"],\n",
    "                                     param_grid = knn[\"hyperparamètres\"],\n",
    "                                     scoring    = 'balanced_accuracy', \n",
    "                                     cv         = cross_validation_folds\n",
    "                                   )"
   ]
  },
  {
   "cell_type": "code",
   "execution_count": null,
   "id": "84b3424f",
   "metadata": {},
   "outputs": [],
   "source": [
    "knn[\"gridsearch\"].fit(X, Y);\n",
    "knn[\"gridsearch\"].best_params_;\n",
    "knn[\"gridsearch\"].best_score_;"
   ]
  },
  {
   "cell_type": "markdown",
   "id": "65c258b5",
   "metadata": {},
   "source": [
    "## PipeLine Final"
   ]
  },
  {
   "cell_type": "code",
   "execution_count": null,
   "id": "f3834aab",
   "metadata": {},
   "outputs": [],
   "source": [
    "pipeline_final = Pipeline([\n",
    "    ('preprocessing',    preprocessing), \n",
    "    ('LinearRegression', LinearRegression(param_linear_regression= 3, param_linear_regression=\"distance\"))\n",
    "])"
   ]
  },
  {
   "cell_type": "code",
   "execution_count": null,
   "id": "fa9f3db9",
   "metadata": {},
   "outputs": [],
   "source": [
    "# Entrainement sur toutes les données\n",
    "pipeline_final.fit(X, Y);"
   ]
  },
  {
   "cell_type": "code",
   "execution_count": null,
   "id": "75078f72",
   "metadata": {},
   "outputs": [],
   "source": [
    "# Pipeline : Les prédictions finales (manque le dataset_test)\n",
    "predict = pipeline_final.predict(df_test)"
   ]
  }
 ],
 "metadata": {
  "kernelspec": {
   "display_name": "Python 3 (ipykernel)",
   "language": "python",
   "name": "python3"
  },
  "language_info": {
   "codemirror_mode": {
    "name": "ipython",
    "version": 3
   },
   "file_extension": ".py",
   "mimetype": "text/x-python",
   "name": "python",
   "nbconvert_exporter": "python",
   "pygments_lexer": "ipython3",
   "version": "3.8.12"
  },
  "toc": {
   "base_numbering": 1,
   "nav_menu": {},
   "number_sections": true,
   "sideBar": true,
   "skip_h1_title": false,
   "title_cell": "Table of Contents",
   "title_sidebar": "Contents",
   "toc_cell": false,
   "toc_position": {},
   "toc_section_display": true,
   "toc_window_display": false
  }
 },
 "nbformat": 4,
 "nbformat_minor": 5
}
